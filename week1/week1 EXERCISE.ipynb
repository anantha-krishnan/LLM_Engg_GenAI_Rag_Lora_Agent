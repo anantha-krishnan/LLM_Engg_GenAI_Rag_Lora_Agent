{
 "cells": [
  {
   "cell_type": "markdown",
   "id": "fe12c203-e6a6-452c-a655-afb8a03a4ff5",
   "metadata": {},
   "source": [
    "# End of week 1 exercise\n",
    "\n",
    "To demonstrate your familiarity with OpenAI API, and also Ollama, build a tool that takes a technical question,  \n",
    "and responds with an explanation. This is a tool that you will be able to use yourself during the course!"
   ]
  },
  {
   "cell_type": "code",
   "execution_count": 18,
   "id": "c1070317-3ed9-4659-abe3-828943230e03",
   "metadata": {},
   "outputs": [],
   "source": [
    "# imports\n",
    "import os\n",
    "import requests\n",
    "from dotenv import load_dotenv\n",
    "from openai import OpenAI\n",
    "from IPython.display import Markdown, display, update_display\n",
    "from pathlib import Path\n"
   ]
  },
  {
   "cell_type": "code",
   "execution_count": 12,
   "id": "4a456906-915a-4bfd-bb9d-57e505c5093f",
   "metadata": {},
   "outputs": [],
   "source": [
    "# constants\n",
    "\n",
    "MODEL_GPT = 'gpt-4o-mini'\n",
    "MODEL_LLAMA = 'llama3.2'"
   ]
  },
  {
   "cell_type": "code",
   "execution_count": 28,
   "id": "a8d7923c-5f28-4c30-8556-342d7c8497c1",
   "metadata": {},
   "outputs": [],
   "source": [
    "# set up environment\n",
    "load_dotenv(override=True)\n",
    "openai = OpenAI()\n",
    "api_key = os.getenv('OPENAI_API_KEY')\n",
    "datafolder = Path('C:\\\\Projects\\\\llm_engg\\\\llm_engineering\\\\Pdata')"
   ]
  },
  {
   "cell_type": "code",
   "execution_count": 14,
   "id": "3f0d0137-52b0-47a8-81a8-11a90a010798",
   "metadata": {},
   "outputs": [],
   "source": [
    "# here is the question; type over this to ask something new\n",
    "system_prompt = \"You are an assistant that analyzes the code. Respond in markdown.\\\n",
    "Include details if you have the information.\"\n",
    "\n",
    "question = \"\"\"\n",
    "Please explain what this code does and why:\n",
    "yield from {book.get(\"author\") for book in books if book.get(\"author\")}\n",
    "\"\"\""
   ]
  },
  {
   "cell_type": "code",
   "execution_count": 15,
   "id": "60ce7000-a4a5-4cce-a261-e75ef45063b4",
   "metadata": {},
   "outputs": [],
   "source": [
    "# Get gpt-4o-mini to answer, with streaming\n",
    "def chatGptResponse(sys_prompt,qt):\n",
    "    message = \"Hello, GPT! This is my first ever message to you! Hi!\"\n",
    "    stream = openai.chat.completions.create(\n",
    "        model=MODEL_GPT,\n",
    "        messages=[\n",
    "                {\"role\": \"system\", \"content\": sys_prompt},\n",
    "                {\"role\": \"user\", \"content\": qt}\n",
    "              ],\n",
    "        stream=True\n",
    "    )\n",
    "    response = \"\"\n",
    "    display_handle = display(Markdown(\"\"), display_id=True)\n",
    "    for chunk in stream:\n",
    "        response += chunk.choices[0].delta.content or ''\n",
    "        response = response.replace(\"```\",\"\").replace(\"markdown\", \"\")\n",
    "        update_display(Markdown(response), display_id=display_handle.display_id)"
   ]
  },
  {
   "cell_type": "code",
   "execution_count": 33,
   "id": "e63445fc-d59f-42ed-80af-ddd5966b0858",
   "metadata": {
    "scrolled": true
   },
   "outputs": [],
   "source": [
    "def chatGptResponseFile(filePath, content):\n",
    "    with open(filePath, 'r') as file:\n",
    "        file_content = file.read()\n",
    "    \n",
    "    # Make the API call\n",
    "        stream = openai.chat.completions.create(\n",
    "            model=MODEL_GPT,\n",
    "            messages=[\n",
    "                {\"role\": \"system\", \"content\": \"You are a helpful assistant. Respond in markdown.\"},\n",
    "                {\"role\": \"user\", \"content\": file_content},\n",
    "                {\"role\": \"user\", \"content\": \"Can you understand this file data. GIve summary\"}\n",
    "            ],\n",
    "            stream=True\n",
    "        )\n",
    "        \n",
    "        response = \"\"\n",
    "        display_handle = display(Markdown(\"\"), display_id=True)\n",
    "        for chunk in stream:\n",
    "            response += chunk.choices[0].delta.content or ''\n",
    "            response = response.replace(\"```\",\"\").replace(\"markdown\", \"\")\n",
    "            update_display(Markdown(response), display_id=display_handle.display_id)\n",
    "        \n"
   ]
  },
  {
   "cell_type": "code",
   "execution_count": 34,
   "id": "06d72abc-7c07-4b35-afcd-d884fa6049c3",
   "metadata": {},
   "outputs": [
    {
     "data": {
      "text/markdown": [
       "Certainly! The provided Python code defines a class called `SysToAsm` that is responsible for converting system definitions from a specified input file (in `.mdl` format) into assembly files. Here’s a summary of its components and functionality:\n",
       "\n",
       "### Class Overview: `SysToAsm`\n",
       "\n",
       "1. **Initialization (`__init__` method)**:\n",
       "    - Initializes utility functions, assembly file creation helpers, and model system helpers. These are likely imported from other modules (not shown).\n",
       "\n",
       "2. **Destructor (`__del__` method)**:\n",
       "    - A placeholder for cleanup tasks when the object is destroyed.\n",
       "\n",
       "3. **Method: `nu_convert_system_to_assemblies`**:\n",
       "    - Converts a single system definition into assembly files.\n",
       "    - Extracts system definitions and arguments from provided system information.\n",
       "    - Prepares output paths for defining and data files based on the system name.\n",
       "    - Uses regular expressions to identify specific system definitions that should be processed.\n",
       "    - Collects assembly definitions and data for the systems, appending any additional dataset blocks as needed.\n",
       "    - Writes the resulting assembly content to specified output files.\n",
       "\n",
       "4. **Method: `execute_sys_2_asm`**:\n",
       "    - Main method to handle the conversion of all systems defined in the input `.mdl` file.\n",
       "    - Reads the input file, creating necessary directories for output.\n",
       "    - Extracts system and define blocks from the input content.\n",
       "    - Collects necessary data such as datasets, graphics, forms, and templates to build the assembly definitions.\n",
       "    - Calls `nu_convert_system_to_assemblies` for each system defined in the input file.\n",
       "    - Updates the input file content to reflect the changes, then writes this updated content to an output file.\n",
       "    - Prints a confirmation message after the conversion process is completed.\n",
       "\n",
       "### Key Processing Steps:\n",
       "- **File Handling**: The code ensures that the input is read and output directories are created.\n",
       "- **Regex Matching**: Utilizes regex to locate and manipulate specific parts of the system definitions.\n",
       "- **Data Extraction**: Gathers various blocks of definitions from the input, which are later used in assembly.\n",
       "- **Output Generation**: Creates two output files: one for assembly definitions and another for data.\n",
       "\n",
       "### Usage:\n",
       "At the end of the file, there is a specified path to an example input file and an output directory. The instance of `SysToAsm` is created and the conversion process is executed.\n",
       "\n",
       "### Conclusion:\n",
       "The `SysToAsm` class is geared towards processing system definitions in the context of assembly file creation, following a structured approach to organizing and appending various components while ensuring the input is correctly handled. The class would be useful in a scenario where systems defined in a model need to be converted for simulation, assembly, or other purposes."
      ],
      "text/plain": [
       "<IPython.core.display.Markdown object>"
      ]
     },
     "metadata": {},
     "output_type": "display_data"
    }
   ],
   "source": [
    "chatGptResponseFile((datafolder/'sys_to_assbly.py'))\n"
   ]
  },
  {
   "cell_type": "code",
   "execution_count": null,
   "id": "8f7c8ea8-4082-4ad0-8751-3301adcf6538",
   "metadata": {},
   "outputs": [],
   "source": [
    "# Get Llama 3.2 to answer"
   ]
  }
 ],
 "metadata": {
  "kernelspec": {
   "display_name": "Python 3 (ipykernel)",
   "language": "python",
   "name": "python3"
  },
  "language_info": {
   "codemirror_mode": {
    "name": "ipython",
    "version": 3
   },
   "file_extension": ".py",
   "mimetype": "text/x-python",
   "name": "python",
   "nbconvert_exporter": "python",
   "pygments_lexer": "ipython3",
   "version": "3.11.9"
  }
 },
 "nbformat": 4,
 "nbformat_minor": 5
}
