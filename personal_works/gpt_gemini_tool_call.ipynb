{
 "cells": [
  {
   "cell_type": "code",
   "execution_count": null,
   "id": "90a5fdf8-40c9-476a-a833-f23af2747421",
   "metadata": {},
   "outputs": [],
   "source": [
    "import nbimporter\n",
    "import utility_fncs, global_vars, week2_novel\n",
    "import ToolCalls, gemini_tool_call"
   ]
  },
  {
   "cell_type": "code",
   "execution_count": null,
   "id": "36573c41-c403-4167-851c-3b9314e96af0",
   "metadata": {},
   "outputs": [],
   "source": [
    "week2_novel.set_gpt_caller(ToolCalls.chat_gpt_tool_call)\n",
    "week2_novel.set_gemini_caller(gemini_tool_call.gemini_tool_call)\n",
    "launcher=utility_fncs.get_gradio_multi_modal_launcher(week2_novel.dispatch_ai_call)"
   ]
  },
  {
   "cell_type": "code",
   "execution_count": null,
   "id": "84121631-09ea-45ab-8c83-617dad443c67",
   "metadata": {},
   "outputs": [],
   "source": [
    "launcher.launch()"
   ]
  },
  {
   "cell_type": "code",
   "execution_count": null,
   "id": "3175a9e6-fb21-4f47-bff8-fce09a65cca3",
   "metadata": {},
   "outputs": [],
   "source": []
  },
  {
   "cell_type": "code",
   "execution_count": null,
   "id": "97c4bdb4-5f4c-446a-b5ec-aac95739a6dd",
   "metadata": {},
   "outputs": [],
   "source": []
  }
 ],
 "metadata": {
  "kernelspec": {
   "display_name": "Python 3 (ipykernel)",
   "language": "python",
   "name": "python3"
  },
  "language_info": {
   "codemirror_mode": {
    "name": "ipython",
    "version": 3
   },
   "file_extension": ".py",
   "mimetype": "text/x-python",
   "name": "python",
   "nbconvert_exporter": "python",
   "pygments_lexer": "ipython3",
   "version": "3.11.9"
  }
 },
 "nbformat": 4,
 "nbformat_minor": 5
}
