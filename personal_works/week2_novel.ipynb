{
 "cells": [
  {
   "cell_type": "code",
   "execution_count": null,
   "id": "0ba6b69a-81e6-4fcd-9a62-e861c927e637",
   "metadata": {},
   "outputs": [],
   "source": [
    "import os\n",
    "from dotenv import load_dotenv\n",
    "from IPython.display import Markdown, display, update_display\n",
    "from pathlib import Path"
   ]
  },
  {
   "cell_type": "code",
   "execution_count": null,
   "id": "65a714b6-73a1-444a-afd8-999fc8cd534e",
   "metadata": {},
   "outputs": [],
   "source": [
    "from openai import OpenAI\n",
    "import google.generativeai"
   ]
  },
  {
   "cell_type": "code",
   "execution_count": null,
   "id": "ddf37253-0759-4d96-a061-1ed0ef088626",
   "metadata": {},
   "outputs": [],
   "source": [
    "load_dotenv(override=True)\n",
    "openai_api_key=os.getenv('OPEN_API_KEY')\n",
    "google_api_key=os.getenv('GOOGLE_API_KEY')\n",
    "model_openai_4omini = 'gpt-4o-mini'\n",
    "model_openai_4onano = 'gpt-4.1-nano'\n",
    "model_openai_o3mini = 'o3-mini'\n",
    "model_genimi = 'gemini-2.0-flash'\n",
    "model_gemini_2_5_flash_4_17 = \"gemini-2.5-flash-preview-04-17\"\n",
    "model_gemini_2_5_flash_5_20 = \"gemini-2.5-flash-preview-05-20\"\n",
    "model_gemini_2_5_pro_preview='gemini-2.5-pro-preview-06-05'"
   ]
  },
  {
   "cell_type": "code",
   "execution_count": null,
   "id": "ef891482-f234-4c59-b3d0-5872ab13f3c8",
   "metadata": {},
   "outputs": [],
   "source": [
    "openai = OpenAI()\n",
    "google.generativeai.configure()"
   ]
  },
  {
   "cell_type": "code",
   "execution_count": null,
   "id": "26e7d0da-ad53-429a-b264-40dcecfa2129",
   "metadata": {},
   "outputs": [],
   "source": [
    "system_message = 'You are an assistant that is great at telling jokes'\n",
    "user_prompt='Tell a light hearted joke for an audience of Data Scientists'\n",
    "prompts = [\n",
    "    {\"role\": \"system\", \"content\": system_message},\n",
    "    {\"role\": \"user\", \"content\": user_prompt},\n",
    "]\n"
   ]
  },
  {
   "cell_type": "code",
   "execution_count": null,
   "id": "4d617fda-ee3e-4350-ab89-420a4020cdba",
   "metadata": {},
   "outputs": [],
   "source": [
    "completion = openai.chat.completions.create(model=model_openai_o3mini,messages=prompts)\n",
    "print(completion.choices[0].message.content)"
   ]
  },
  {
   "cell_type": "code",
   "execution_count": null,
   "id": "c6f2d961-8267-460a-a48b-d813a9dabb99",
   "metadata": {},
   "outputs": [],
   "source": [
    "gemini = google.generativeai.GenerativeModel(\n",
    "    model_name = model_genimi,\n",
    "    system_instruction=system_message\n",
    ")\n",
    "response = gemini.generate_content(user_prompt)\n",
    "print(response.text)"
   ]
  },
  {
   "cell_type": "code",
   "execution_count": null,
   "id": "79d80fc7-ac60-4061-88d8-1b543129002b",
   "metadata": {},
   "outputs": [],
   "source": [
    "gemini_via_openai_client = OpenAI(\n",
    "    api_key=google_api_key,\n",
    "    base_url=\"https://generativelanguage.googleapis.com/v1beta/openai/\",\n",
    ")\n",
    "response = gemini_via_openai_client.chat.completions.create(\n",
    "    model=model_gemini_2_5_flash_4_17,\n",
    "    messages=prompts,\n",
    ")\n",
    "print(response.choices[0].message.content)"
   ]
  },
  {
   "cell_type": "code",
   "execution_count": null,
   "id": "fce525d5-f074-4023-a54c-dd2a3a939373",
   "metadata": {},
   "outputs": [],
   "source": [
    "system_gpt_msg = \"you are a very strong willed person\"\n",
    "system_gemini_msg = \"You are a very down to earth person. But try to keep find a common ground in case other person is not giving up\"\n"
   ]
  },
  {
   "cell_type": "code",
   "execution_count": null,
   "id": "28b4b640-31fa-45a3-8b51-c5cfd550f79d",
   "metadata": {},
   "outputs": [],
   "source": [
    "prompt_gpt=[\n",
    "    {\"role\":\"system\", \"content\":system_gpt_msg}\n",
    "]\n",
    "def call_gpt(msg):\n",
    "    prompt_gpt.append({\"role\": \"user\", \"content\":msg})\n",
    "    completion = openai.chat.completions.create(\n",
    "        model=model_openai_4onano,\n",
    "        messages=prompt_gpt,\n",
    "    )\n",
    "    reply=completion.choices[0].message.content\n",
    "    prompt_gpt.append({\"role\":\"assistant\", \"content\":reply})\n",
    "    return reply\n",
    "    "
   ]
  },
  {
   "cell_type": "code",
   "execution_count": null,
   "id": "bc3da1fa-3215-49d0-b520-a04283d1db43",
   "metadata": {},
   "outputs": [],
   "source": [
    "prompt_google_gemini = []\n",
    "gemini = google.generativeai.GenerativeModel(\n",
    "        model_name = model_gemini_2_5_flash_5_20,    \n",
    "        system_instruction=system_gemini_msg\n",
    "    )\n",
    "def call_google_gemini(msg):\n",
    "    prompt_google_gemini.append({\"role\": \"user\", \"parts\": [{\"text\": msg}]})\n",
    "    \n",
    "    response = gemini.generate_content(prompt_google_gemini)\n",
    "    prompt_google_gemini.append({\"role\":\"model\",\"parts\":[{\"text\":response.text}]})\n",
    "    return response.text\n"
   ]
  },
  {
   "cell_type": "code",
   "execution_count": null,
   "id": "c9ceea95-b762-41cd-bee8-ab2ede818fa2",
   "metadata": {},
   "outputs": [],
   "source": [
    "print(f\"Gemini: Hi\\n\")\n",
    "reply_google='Hi'\n",
    "for i in range(5):\n",
    "    reply_gpt = call_gpt(reply_google)\n",
    "    print(f\"GPT: {reply_gpt}\\n\")\n",
    "    reply_google = call_google_gemini(reply_gpt)\n",
    "    print(f\"Google: {reply_google}\\n\")\n",
    "    "
   ]
  },
  {
   "cell_type": "code",
   "execution_count": null,
   "id": "bbb42e0e-d23c-4e4b-8381-8cfcec94a58e",
   "metadata": {},
   "outputs": [],
   "source": []
  }
 ],
 "metadata": {
  "kernelspec": {
   "display_name": "Python 3 (ipykernel)",
   "language": "python",
   "name": "python3"
  },
  "language_info": {
   "codemirror_mode": {
    "name": "ipython",
    "version": 3
   },
   "file_extension": ".py",
   "mimetype": "text/x-python",
   "name": "python",
   "nbconvert_exporter": "python",
   "pygments_lexer": "ipython3",
   "version": "3.11.9"
  }
 },
 "nbformat": 4,
 "nbformat_minor": 5
}
