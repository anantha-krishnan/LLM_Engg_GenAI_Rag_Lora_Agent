{
 "cells": [
  {
   "cell_type": "code",
   "execution_count": null,
   "id": "0ba6b69a-81e6-4fcd-9a62-e861c927e637",
   "metadata": {},
   "outputs": [],
   "source": [
    "import os\n",
    "from dotenv import load_dotenv\n",
    "from IPython.display import Markdown, display, update_display\n",
    "from pathlib import Path\n",
    "import nbimporter"
   ]
  },
  {
   "cell_type": "code",
   "execution_count": null,
   "id": "e5701dce-58e9-44aa-b843-0d47c8a52210",
   "metadata": {},
   "outputs": [],
   "source": [
    "import utility_fncs\n",
    "from global_vars import *"
   ]
  },
  {
   "cell_type": "code",
   "execution_count": null,
   "id": "65a714b6-73a1-444a-afd8-999fc8cd534e",
   "metadata": {},
   "outputs": [],
   "source": [
    "from openai import OpenAI\n",
    "import google.generativeai"
   ]
  },
  {
   "cell_type": "code",
   "execution_count": null,
   "id": "ddf37253-0759-4d96-a061-1ed0ef088626",
   "metadata": {},
   "outputs": [],
   "source": [
    "load_dotenv(override=True)\n",
    "openai_api_key=os.getenv('OPEN_API_KEY')\n",
    "google_api_key=os.getenv('GOOGLE_API_KEY')\n",
    "model_openai_4omini = 'gpt-4o-mini'\n",
    "model_openai_4onano = 'gpt-4.1-nano'\n",
    "model_openai_o3mini = 'o3-mini'\n",
    "model_genimi = 'gemini-2.0-flash'\n",
    "model_gemini_2_5_flash_4_17 = \"gemini-2.5-flash-preview-04-17\"\n",
    "model_gemini_2_5_flash_5_20 = \"gemini-2.5-flash-preview-05-20\"\n",
    "model_gemini_2_5_pro_preview='gemini-2.5-pro-preview-06-05'"
   ]
  },
  {
   "cell_type": "code",
   "execution_count": null,
   "id": "ef891482-f234-4c59-b3d0-5872ab13f3c8",
   "metadata": {},
   "outputs": [],
   "source": [
    "openai = OpenAI()\n",
    "google.generativeai.configure()"
   ]
  },
  {
   "cell_type": "code",
   "execution_count": null,
   "id": "79d80fc7-ac60-4061-88d8-1b543129002b",
   "metadata": {},
   "outputs": [],
   "source": [
    "#gemini_via_openai_client = OpenAI(\n",
    "#    api_key=google_api_key,\n",
    "#    base_url=\"https://generativelanguage.googleapis.com/v1beta/openai/\",\n",
    "#)\n",
    "#response = gemini_via_openai_client.chat.completions.create(\n",
    "#    model=model_gemini_2_5_flash_4_17,\n",
    "#    messages=prompts,\n",
    "#)\n",
    "#print(response.choices[0].message.content)"
   ]
  },
  {
   "cell_type": "code",
   "execution_count": null,
   "id": "28b4b640-31fa-45a3-8b51-c5cfd550f79d",
   "metadata": {},
   "outputs": [],
   "source": [
    "\n",
    "def call_gpt(msg, filedata=None):\n",
    "    #print(filedata)   \n",
    "    prompt_gpt.append({\"role\": \"user\", \"content\":msg})\n",
    "    if filedata: prompt_gpt.append({\"role\": \"user\", \"content\":utility_fncs.getFileContent(filedata)})\n",
    "    completion = openai.chat.completions.create(\n",
    "        model=model_openai_4onano,\n",
    "        messages=prompt_gpt,\n",
    "    )\n",
    "    reply=completion.choices[0].message.content\n",
    "    prompt_gpt.append({\"role\":\"assistant\", \"content\":reply})\n",
    "    return reply\n",
    "    "
   ]
  },
  {
   "cell_type": "code",
   "execution_count": null,
   "id": "bc3da1fa-3215-49d0-b520-a04283d1db43",
   "metadata": {},
   "outputs": [],
   "source": [
    "prompt_google_gemini = []\n",
    "gemini = google.generativeai.GenerativeModel(\n",
    "        model_name = model_gemini_2_5_flash_5_20,    \n",
    "        system_instruction=system_gemini_msg\n",
    "    )\n",
    "\n",
    "def upload_file_gemini(file_path):\n",
    "    file = google.generativeai.upload_file(file_path)\n",
    "    print(file.uri)\n",
    "    return file\n",
    "    \n",
    "def call_google_gemini(msg, file_path=None):\n",
    "    prompt_msg=[{\"text\": msg}]\n",
    "            \n",
    "    \n",
    "    if file_path:\n",
    "        file_up=upload_file_gemini(file_path)\n",
    "        prompt_msg.append(\n",
    "        {\n",
    "                \"file_data\": {\n",
    "                    \"file_uri\": file_up.uri,\n",
    "                    \"mime_type\": utility_fncs.detect_mime_type(file_path)\n",
    "                }\n",
    "            },)\n",
    "    prompt_google_gemini.append({\"role\": \"user\", \"parts\": prompt_msg})\n",
    "    response = gemini.generate_content(prompt_google_gemini)\n",
    "    prompt_google_gemini.append({\"role\":\"model\",\"parts\":[{\"text\":response.text}]})\n",
    "    return response.text\n"
   ]
  },
  {
   "cell_type": "code",
   "execution_count": null,
   "id": "c9ceea95-b762-41cd-bee8-ab2ede818fa2",
   "metadata": {},
   "outputs": [],
   "source": [
    "def start_conv():\n",
    "    print(f\"Gemini: Hi\\n\")\n",
    "    reply_google='Hi'\n",
    "    for i in range(5):\n",
    "        reply_gpt = call_gpt(reply_google)\n",
    "        print(f\"GPT: {reply_gpt}\\n\")\n",
    "        reply_google = call_google_gemini(reply_gpt)\n",
    "        print(f\"Google: {reply_google}\\n\")\n",
    "        "
   ]
  },
  {
   "cell_type": "code",
   "execution_count": null,
   "id": "bbb42e0e-d23c-4e4b-8381-8cfcec94a58e",
   "metadata": {},
   "outputs": [],
   "source": [
    "\n",
    "    \n",
    "def dispatch_ai_call(qt,file,model):\n",
    "    \n",
    "    if model=='GPT':\n",
    "        return call_gpt(qt, file)\n",
    "    elif model=='GEMINI':\n",
    "        return call_google_gemini(qt,file)\n",
    "    "
   ]
  },
  {
   "cell_type": "code",
   "execution_count": null,
   "id": "caff56f2-9565-48bc-b2e5-e7fefe264c37",
   "metadata": {},
   "outputs": [],
   "source": [
    "dispatch_ai_call(\"how are you. tell me a joke about this file\",\"C:/Projects/llm_engg/llm_engineering/requirements.txt\",'GEMINI')"
   ]
  },
  {
   "cell_type": "code",
   "execution_count": null,
   "id": "dd92ec2b-ac67-4e05-838c-edd0c7caae10",
   "metadata": {},
   "outputs": [],
   "source": []
  }
 ],
 "metadata": {
  "kernelspec": {
   "display_name": "Python 3 (ipykernel)",
   "language": "python",
   "name": "python3"
  },
  "language_info": {
   "codemirror_mode": {
    "name": "ipython",
    "version": 3
   },
   "file_extension": ".py",
   "mimetype": "text/x-python",
   "name": "python",
   "nbconvert_exporter": "python",
   "pygments_lexer": "ipython3",
   "version": "3.11.9"
  }
 },
 "nbformat": 4,
 "nbformat_minor": 5
}
