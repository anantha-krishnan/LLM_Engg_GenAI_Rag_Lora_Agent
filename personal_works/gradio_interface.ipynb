{
 "cells": [
  {
   "cell_type": "code",
   "execution_count": null,
   "id": "8f98fcee-d7a4-44b5-8c26-7e747b9bf32a",
   "metadata": {},
   "outputs": [],
   "source": [
    "import gradio as gr"
   ]
  },
  {
   "cell_type": "code",
   "execution_count": null,
   "id": "7747ce08-0742-4415-91a3-472a3b5740d2",
   "metadata": {},
   "outputs": [],
   "source": [
    "\n",
    "#import week2_novel,utility_fncs\n",
    "from week2_novel import *"
   ]
  },
  {
   "cell_type": "code",
   "execution_count": null,
   "id": "20e7fc17-f76b-4bc8-be4e-df001ef04370",
   "metadata": {},
   "outputs": [],
   "source": [
    "\n",
    "def get_gradio_launcher(func):\n",
    "    view = gr.Interface(\n",
    "        fn=func,\n",
    "        inputs=[gr.Textbox(label=\"Your message:\"),gr.File(label=\"Upload file\"),gr.Dropdown([\"GPT\", \"GEMINI\"], label=\"Select model\")],\n",
    "        outputs=[gr.Markdown(label=\"Response:\")],\n",
    "        flagging_mode=\"never\"\n",
    "    )\n",
    "    return view\n",
    "    #view.launch()"
   ]
  },
  {
   "cell_type": "code",
   "execution_count": null,
   "id": "fc266eae-e96e-494f-953b-a36a5286b4f9",
   "metadata": {},
   "outputs": [],
   "source": [
    "#launcher = get_gradio_launcher(dispatch_ai_call)\n",
    "#print(set_gpt_caller(call_gpt))\n",
    "#print(set_gemini_caller(call_google_gemini))"
   ]
  },
  {
   "cell_type": "code",
   "execution_count": null,
   "id": "5b6f230d-2376-48a6-a0c1-a09065692532",
   "metadata": {},
   "outputs": [],
   "source": [
    "#launcher.launch()"
   ]
  },
  {
   "cell_type": "code",
   "execution_count": null,
   "id": "f80115e6-50d1-4f37-879c-026b49acebaa",
   "metadata": {},
   "outputs": [],
   "source": []
  }
 ],
 "metadata": {
  "kernelspec": {
   "display_name": "Python 3 (ipykernel)",
   "language": "python",
   "name": "python3"
  },
  "language_info": {
   "codemirror_mode": {
    "name": "ipython",
    "version": 3
   },
   "file_extension": ".py",
   "mimetype": "text/x-python",
   "name": "python",
   "nbconvert_exporter": "python",
   "pygments_lexer": "ipython3",
   "version": "3.11.9"
  }
 },
 "nbformat": 4,
 "nbformat_minor": 5
}
