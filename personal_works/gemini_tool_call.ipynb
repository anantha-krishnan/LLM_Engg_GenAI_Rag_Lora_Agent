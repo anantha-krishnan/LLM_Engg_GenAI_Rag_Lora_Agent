{
 "cells": [
  {
   "cell_type": "code",
   "execution_count": 1,
   "id": "fc1dd27a-e9a0-497d-9239-2baa7fbe74d9",
   "metadata": {},
   "outputs": [],
   "source": [
    "# Google GenAI (for Chat)\n",
    "import google.generativeai as genai\n",
    "from google.generativeai.types import FunctionDeclaration, Tool\n",
    "from google import genai as g_genai\n",
    "from google.genai import types\n",
    "# Vertex AI (for Image Generation)\n",
    "#import vertexai\n",
    "#from vertexai.preview.vision_models import ImageGenerationModel\n",
    "\n",
    "import json\n",
    "import nbimporter\n",
    "import utility_fncs, global_vars, week2_novel\n",
    "from IPython.display import Image as IPythonImage\n",
    "import base64\n",
    "from io import BytesIO\n",
    "from PIL import Image as PILImage"
   ]
  },
  {
   "cell_type": "code",
   "execution_count": 2,
   "id": "8759b6f9-93bd-40e6-94f9-f42a604aeee7",
   "metadata": {},
   "outputs": [],
   "source": [
    "def create_gemini_declaration_from_function(func): # The Gemini adapter\n",
    "    openai_tool_dict = utility_fncs.create_tool_from_function(func)\n",
    "    function_details = openai_tool_dict['function']\n",
    "    return FunctionDeclaration(name=function_details['name'], description=function_details['description'], parameters=function_details['parameters'])\n"
   ]
  },
  {
   "cell_type": "code",
   "execution_count": 3,
   "id": "798613c4-08fe-46f7-9995-abef6ae879b0",
   "metadata": {},
   "outputs": [],
   "source": [
    "from google import genai as g_genai\n",
    "from google.genai import types\n",
    "from PIL import Image as PILImage\n",
    "def create_image_with_text_model(prompt: str):\n",
    "    \"\"\"\n",
    "    Generates a high-quality image using Google's Gemini model gemini-2.0-flash-preview-image-generation.\n",
    "    The generated image is returned in a dictionary by saving in a key content.\n",
    "\n",
    "    Args:\n",
    "        prompt (str): A detailed text description of the image to create.\n",
    "                      For best results, be specific about the subject,\n",
    "                      setting, and artistic style.\n",
    "    \"\"\"\n",
    "    return_dict={\n",
    "        'type':'image',\n",
    "        'content':'',\n",
    "    }    \n",
    "    client = g_genai.Client()\n",
    "\n",
    "    contents = prompt\n",
    "    \n",
    "    response = client.models.generate_content(\n",
    "        model=global_vars.gemini_image_model,\n",
    "        contents=contents,\n",
    "        config=types.GenerateContentConfig(\n",
    "          response_modalities=['TEXT', 'IMAGE']\n",
    "        )\n",
    "    )\n",
    "\n",
    "    for part in response.candidates[0].content.parts:\n",
    "      if part.text is not None:\n",
    "        print(part.text)\n",
    "      elif part.inline_data is not None:\n",
    "        pil_image = PILImage.open(BytesIO((part.inline_data.data)))\n",
    "        return_dict['content']=pil_image\n",
    "        #image.save('gemini-native-image.png')\n",
    "        #image.show()\n",
    "    return return_dict"
   ]
  },
  {
   "cell_type": "code",
   "execution_count": null,
   "id": "cb0c6e2e-e7ec-47e2-80a2-62c10ae69dbf",
   "metadata": {},
   "outputs": [],
   "source": [
    "#a = create_image_with_text_model('can you create a image of a cycle for me. it should be underneath a tree during a sunset. the sun light must be falling on the cycle')"
   ]
  },
  {
   "cell_type": "code",
   "execution_count": null,
   "id": "9496b2e5-8ce6-46a4-8445-4811917080aa",
   "metadata": {},
   "outputs": [],
   "source": [
    "def create_image_with_vertex_ai(prompt: str):\n",
    "    \"\"\"\n",
    "    Generates a high-quality image using Google's Imagen model on Vertex AI.\n",
    "    The generated image is saved to a local file.\n",
    "\n",
    "    Args:\n",
    "        prompt (str): A detailed text description of the image to create.\n",
    "                      For best results, be specific about the subject,\n",
    "                      setting, and artistic style.\n",
    "    \"\"\"\n",
    "    print(f\"--- Initializing Vertex AI to generate image for prompt: '{prompt}' ---\")\n",
    "    \n",
    "    return_dict={\n",
    "        'type':'image',\n",
    "        'content':'',\n",
    "    }    \n",
    "    # --- Configuration ---\n",
    "    # Replace with your project ID and location\n",
    "    PROJECT_ID = \"gen-lang-client-0023157158\"\n",
    "    LOCATION = \"us-central1\" # Or any other supported location\n",
    "    \n",
    "    # Initialize Vertex AI\n",
    "    vertexai.init(project=PROJECT_ID, location=LOCATION)\n",
    "    \n",
    "    # --- Model and Prompt ---\n",
    "    # Load the image generation model. \"imagegeneration@006\" is the latest as of mid-2024.\n",
    "    model = ImageGenerationModel.from_pretrained(\"imagegeneration@006\")\n",
    "    \n",
    "    prompt_for_image = prompt\n",
    "    \n",
    "    print(f\"Generating image with prompt: {prompt_for_image}\")\n",
    "    \n",
    "    # --- Generate the Image ---\n",
    "    # Note: The method is `generate_images`, not `generate_image`\n",
    "    response = model.generate_images(\n",
    "        prompt=prompt_for_image,\n",
    "        number_of_images=1,  # You can generate up to 8 images at once\n",
    "        # Optional parameters:\n",
    "        # negative_prompt=\"text, watermark, blurry\",\n",
    "        # aspect_ratio=\"1:1\", # \"1:1\", \"9:16\", \"16:9\"\n",
    "        # seed=42\n",
    "    )\n",
    "    \n",
    "    # --- Save the Image ---\n",
    "    # The response contains a list of Image objects\n",
    "    if response.images:\n",
    "        # Get the first image from the list\n",
    "        generated_image = response.images[0]\n",
    "        image_bytes = generated_image._image_bytes\n",
    "        image_stream = BytesIO(image_bytes)\n",
    "        pil_image = PILImage.open(image_stream)\n",
    "        # Save the image to a file\n",
    "        #image_filename = \"gemini_generated_image.png\"\n",
    "        #generated_image.save(location=image_filename)\n",
    "        return_dict['content']=pil_image\n",
    "        #return , json.dumps({\"status\": \"success\", \"filename\": image_filename})\n",
    "    #else:\n",
    "     #   return None, json.dumps({\"status\": \"failed\", \"message\": \"API returned no images.\"})\n",
    "    #except Exception as e:\n",
    "     #   print(f\"An error occurred during image generation: {e}\")\n",
    "      #  return json.dumps({\"status\": \"error\", \"message\": str(e)})  \n",
    "    return return_dict"
   ]
  },
  {
   "cell_type": "code",
   "execution_count": 4,
   "id": "13d088cf-78de-4596-b6a6-9a40f4d0690e",
   "metadata": {},
   "outputs": [],
   "source": [
    "available_functions = {\"create_image_with_text_model\": create_image_with_text_model}\n",
    "all_declarations = [create_gemini_declaration_from_function(func) for func in available_functions.values()]\n",
    "gemini_tools = Tool(function_declarations=all_declarations)\n",
    "model_gemini = genai.GenerativeModel(model_name=global_vars.gemini_text_model, tools=[gemini_tools])"
   ]
  },
  {
   "cell_type": "code",
   "execution_count": 7,
   "id": "94fea341-5740-4a07-bd3a-216f667e212f",
   "metadata": {},
   "outputs": [
    {
     "data": {
      "text/plain": [
       "'create_image_with_text_model'"
      ]
     },
     "execution_count": 7,
     "metadata": {},
     "output_type": "execute_result"
    }
   ],
   "source": [
    "gemini_tools.function_declarations[0].name"
   ]
  },
  {
   "cell_type": "code",
   "execution_count": null,
   "id": "67f6e003-1fb8-47d5-a0c6-2bd3f44aecc5",
   "metadata": {},
   "outputs": [],
   "source": [
    "#prompt = \"Please create an image of a majestic lion in a african forest, in a photorealistic style.\"\n",
    "#print(f\"User: {prompt}\\n\")\n",
    "prompt_google_gemini = []\n",
    "\n",
    "\n",
    "def gemini_tool_call(prompt, file=None, model=None):\n",
    "    # --- 1. First API Call ---\n",
    "    # Send the user's prompt to the model\n",
    "    conversation_history = []\n",
    "    prompt_msg=[{\"text\": prompt}]\n",
    "    prompt_google_gemini.append({\"role\": \"user\", \"parts\": prompt_msg})\n",
    "    response = model_gemini.generate_content(prompt_google_gemini) # The message can be a simple list of strings\n",
    "    final_output=''\n",
    "    image=None\n",
    "    # --- 2. Check for a function call and execute it ---\n",
    "    function_call = response.candidates[0].content.parts[0].function_call\n",
    "    if function_call:\n",
    "        print(f\"Gemini wants to call function: '{function_call.name}'\")\n",
    "        function_to_call = available_functions[function_call.name]\n",
    "        function_args = {key: value for key, value in function_call.args.items()}\n",
    "        \n",
    "        # Execute the local function\n",
    "        function_response_data = function_to_call(**function_args)\n",
    "        print(f\"Function result: {function_response_data}\\n\")\n",
    "        if (isinstance(function_response_data,dict)):\n",
    "            if function_response_data.get('type')=='image':\n",
    "                image = function_response_data.get('content')\n",
    "                print(image)\n",
    "                function_response_data = \"Image created as per user's request\"\n",
    "            else:\n",
    "                function_response_data=function_response.get('content','')\n",
    "        user_turn = {'role': 'user', 'parts': [{'text': prompt}]}\n",
    "        \n",
    "        model_turn = {'role': 'model', 'parts': response.candidates[0].content.parts}\n",
    "    \n",
    "        # Turn 3: The result from our tool.\n",
    "        tool_turn = {\n",
    "            'role': 'tool',\n",
    "            'parts': [\n",
    "                {'function_response': {\n",
    "                    \"name\": function_call.name,\n",
    "                    \"response\": {\"result\": function_response_data}\n",
    "                }}\n",
    "            ]\n",
    "        }\n",
    "        prompt_google_gemini.append(model_turn)\n",
    "        prompt_google_gemini.append(tool_turn)\n",
    "        # --- 3. Second API Call ---\n",
    "        # We must construct the history manually for the stateless call.\n",
    "        # History = [user_prompt, model_function_call, function_result]\n",
    "        conversation_history.extend([user_turn, model_turn, tool_turn])\n",
    "        \n",
    "        # Send the full history back to get the final text response\n",
    "        final_response = model_gemini.generate_content(conversation_history)\n",
    "        final_output = final_response.text\n",
    "        \n",
    "        #image='gemini_generated_image.png'\n",
    "    else:\n",
    "        # If the model didn't call a function, just print its response\n",
    "        final_output = response.text\n",
    "        image=None\n",
    "    prompt_google_gemini.append({\"role\":\"model\",\"parts\":[{\"text\":final_output}]})\n",
    "    return final_output, image"
   ]
  },
  {
   "cell_type": "code",
   "execution_count": null,
   "id": "af80566d-6167-4382-9fee-3cd5aeb84411",
   "metadata": {},
   "outputs": [],
   "source": [
    "#a=gemini_tool_call('old age with nostalgic mood')\n",
    "#IPythonImage('gemini_generated_image.png')"
   ]
  },
  {
   "cell_type": "code",
   "execution_count": null,
   "id": "a472dae1-9f13-4bdd-b60b-6c71a5702095",
   "metadata": {},
   "outputs": [],
   "source": [
    "launcher = utility_fncs.get_gradio_multi_modal_launcher(gemini_tool_call)"
   ]
  },
  {
   "cell_type": "code",
   "execution_count": null,
   "id": "9e5c249c-99ea-44df-b471-308b99f57c8a",
   "metadata": {},
   "outputs": [],
   "source": [
    "launcher.launch()"
   ]
  },
  {
   "cell_type": "code",
   "execution_count": null,
   "id": "5e65aed4-2123-44d5-85e2-c23ca5c35fab",
   "metadata": {},
   "outputs": [],
   "source": []
  },
  {
   "cell_type": "code",
   "execution_count": null,
   "id": "3b9c4677-4019-4155-987f-6d8f94f22eab",
   "metadata": {},
   "outputs": [],
   "source": []
  },
  {
   "cell_type": "code",
   "execution_count": null,
   "id": "c16c96f4-bf0e-4766-a2fb-577601cc4f49",
   "metadata": {},
   "outputs": [],
   "source": []
  }
 ],
 "metadata": {
  "kernelspec": {
   "display_name": "Python 3 (ipykernel)",
   "language": "python",
   "name": "python3"
  },
  "language_info": {
   "codemirror_mode": {
    "name": "ipython",
    "version": 3
   },
   "file_extension": ".py",
   "mimetype": "text/x-python",
   "name": "python",
   "nbconvert_exporter": "python",
   "pygments_lexer": "ipython3",
   "version": "3.11.9"
  }
 },
 "nbformat": 4,
 "nbformat_minor": 5
}
