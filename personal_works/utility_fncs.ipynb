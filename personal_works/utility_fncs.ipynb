{
 "cells": [
  {
   "cell_type": "code",
   "execution_count": null,
   "id": "bac31e16-c0e2-4ff9-8492-08c517ef167d",
   "metadata": {},
   "outputs": [],
   "source": [
    "import filetype\n",
    "from pathlib import Path\n",
    "import nbimporter"
   ]
  },
  {
   "cell_type": "code",
   "execution_count": null,
   "id": "0758ece0-da24-4c24-a73c-f5c4417d65cb",
   "metadata": {},
   "outputs": [],
   "source": [
    "def is_ascii(file_path):\n",
    "    try:\n",
    "        with open(file_path, 'rb') as f:\n",
    "            content = f.read()\n",
    "            content.decode('ascii')  # Will raise UnicodeDecodeError if not ASCII\n",
    "        return True\n",
    "    except UnicodeDecodeError:\n",
    "        return False\n",
    "        \n",
    "def get_file_path_str(file_path):\n",
    "    if(isinstance(file_path,Path)):\n",
    "        file_path=file_path.as_posix()\n",
    "    return file_path \n",
    "    \n",
    "def detect_mime_type(file_path):\n",
    "    file_path=get_file_path_str(file_path)\n",
    "    if is_ascii(file_path):\n",
    "        return \"text/plain\"\n",
    "\n",
    "    kind = filetype.guess(file_path)\n",
    "    if kind:\n",
    "        return kind.mime    \n",
    "\n",
    "    return None\n",
    "\n",
    "# Example usage\n",
    "print(detect_mime_type(\"C:/Projects/llm_engg/llm_engineering/requirements.txt\"))\n"
   ]
  },
  {
   "cell_type": "code",
   "execution_count": null,
   "id": "0c3c2f8f-8d67-4284-b5d5-1e25b160c3e8",
   "metadata": {},
   "outputs": [],
   "source": [
    "def getFileContent(fp):  \n",
    "    fp=get_file_path_str(fp)\n",
    "    with open(fp, 'r') as file:\n",
    "        file_content = file.read()\n",
    "        return file_content\n",
    "    return \"\""
   ]
  },
  {
   "cell_type": "code",
   "execution_count": null,
   "id": "680ba5c5-2b64-41d8-a3d0-1e51856a0719",
   "metadata": {},
   "outputs": [],
   "source": [
    "def launch_gradio(gr_interface):\n",
    "    gr_interface.launch()\n",
    "#view.launch(server_name=\"10.75.32.62\", server_port=7866)"
   ]
  }
 ],
 "metadata": {
  "kernelspec": {
   "display_name": "Python 3 (ipykernel)",
   "language": "python",
   "name": "python3"
  },
  "language_info": {
   "codemirror_mode": {
    "name": "ipython",
    "version": 3
   },
   "file_extension": ".py",
   "mimetype": "text/x-python",
   "name": "python",
   "nbconvert_exporter": "python",
   "pygments_lexer": "ipython3",
   "version": "3.11.9"
  }
 },
 "nbformat": 4,
 "nbformat_minor": 5
}
