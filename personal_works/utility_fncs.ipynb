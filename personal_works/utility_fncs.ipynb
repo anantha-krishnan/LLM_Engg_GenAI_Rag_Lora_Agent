{
 "cells": [
  {
   "cell_type": "code",
   "execution_count": 1,
   "id": "bac31e16-c0e2-4ff9-8492-08c517ef167d",
   "metadata": {},
   "outputs": [],
   "source": [
    "import filetype\n",
    "from pathlib import Path\n",
    "import nbimporter\n",
    "import gradio as gr"
   ]
  },
  {
   "cell_type": "code",
   "execution_count": 2,
   "id": "ec466856-86ef-438d-87db-231221122377",
   "metadata": {},
   "outputs": [],
   "source": [
    "def get_gradio_launcher(func):\n",
    "    view = gr.Interface(\n",
    "        fn=func,\n",
    "        inputs=[gr.Textbox(label=\"Your message:\"),gr.File(label=\"Upload file\"),gr.Dropdown([\"GPT\", \"GEMINI\"], label=\"Select model\")],\n",
    "        outputs=[gr.Markdown(label=\"Response:\")],\n",
    "        flagging_mode=\"never\"\n",
    "    )\n",
    "    return view\n",
    "    #view.launch()#view.launch(server_name=\"10.75.32.62\", server_port=7866)"
   ]
  },
  {
   "cell_type": "code",
   "execution_count": 3,
   "id": "0758ece0-da24-4c24-a73c-f5c4417d65cb",
   "metadata": {},
   "outputs": [
    {
     "name": "stdout",
     "output_type": "stream",
     "text": [
      "text/plain\n"
     ]
    }
   ],
   "source": [
    "def is_ascii(file_path):\n",
    "    try:\n",
    "        with open(file_path, 'rb') as f:\n",
    "            content = f.read()\n",
    "            content.decode('ascii')  # Will raise UnicodeDecodeError if not ASCII\n",
    "        return True\n",
    "    except UnicodeDecodeError:\n",
    "        return False\n",
    "        \n",
    "def get_file_path_str(file_path):\n",
    "    if(isinstance(file_path,Path)):\n",
    "        file_path=file_path.as_posix()\n",
    "    return file_path \n",
    "    \n",
    "def detect_mime_type(file_path):\n",
    "    file_path=get_file_path_str(file_path)\n",
    "    if is_ascii(file_path):\n",
    "        return \"text/plain\"\n",
    "\n",
    "    kind = filetype.guess(file_path)\n",
    "    if kind:\n",
    "        return kind.mime    \n",
    "\n",
    "    return None\n",
    "\n",
    "# Example usage\n",
    "print(detect_mime_type(\"C:/Projects/llm_engg/llm_engineering/requirements.txt\"))\n"
   ]
  },
  {
   "cell_type": "code",
   "execution_count": 4,
   "id": "0c3c2f8f-8d67-4284-b5d5-1e25b160c3e8",
   "metadata": {},
   "outputs": [],
   "source": [
    "def getFileContent(fp):  \n",
    "    fp=get_file_path_str(fp)\n",
    "    with open(fp, 'r') as file:\n",
    "        file_content = file.read()\n",
    "        return file_content\n",
    "    return \"\""
   ]
  },
  {
   "cell_type": "code",
   "execution_count": 5,
   "id": "64eb6bda-79d3-4ab9-9918-b5cb8218f769",
   "metadata": {},
   "outputs": [],
   "source": [
    "def append_conv(conv, msg):\n",
    "    conv.append(msg)\n",
    "    return conv"
   ]
  },
  {
   "cell_type": "code",
   "execution_count": 6,
   "id": "e9d05c8c-fb34-45a3-afa6-5509c66ef247",
   "metadata": {},
   "outputs": [],
   "source": [
    "def create_gpt_prompt(qt, role):\n",
    "    \"\"\"\n",
    "    Creates a correctly formatted Python dictionary for an OpenAI API message.\n",
    "    \"\"\"\n",
    "    return {\n",
    "        \"role\": role,\n",
    "        \"content\": qt\n",
    "    }"
   ]
  },
  {
   "cell_type": "code",
   "execution_count": 7,
   "id": "83d7d779-6bbc-4124-bb03-7567fed1e7c8",
   "metadata": {},
   "outputs": [],
   "source": [
    "def create_gpt_tool_response_dict(tool, response):\n",
    "    return {\n",
    "        \"tool_call_id\" : tool.id,\n",
    "        \"role\" : \"tool\",\n",
    "        \"name\" : tool.function.name,\n",
    "        \"content\" : response\n",
    "    }"
   ]
  },
  {
   "cell_type": "code",
   "execution_count": 8,
   "id": "cb3db95f-8b02-439a-b60a-29cfd4b201c1",
   "metadata": {},
   "outputs": [],
   "source": [
    "def reset_conv_history(conv,sys_msg):\n",
    "    conv=[]\n",
    "    conv.append(sys_msg)\n",
    "    return conv"
   ]
  }
 ],
 "metadata": {
  "kernelspec": {
   "display_name": "Python 3 (ipykernel)",
   "language": "python",
   "name": "python3"
  },
  "language_info": {
   "codemirror_mode": {
    "name": "ipython",
    "version": 3
   },
   "file_extension": ".py",
   "mimetype": "text/x-python",
   "name": "python",
   "nbconvert_exporter": "python",
   "pygments_lexer": "ipython3",
   "version": "3.11.9"
  }
 },
 "nbformat": 4,
 "nbformat_minor": 5
}
